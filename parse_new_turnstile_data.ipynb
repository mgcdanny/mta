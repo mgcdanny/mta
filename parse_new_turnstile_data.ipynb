{
 "cells": [
  {
   "cell_type": "code",
   "execution_count": 1,
   "metadata": {
    "collapsed": true
   },
   "outputs": [],
   "source": [
    "import pandas as pd\n",
    "from glob import iglob\n",
    "from itertools import chain\n",
    "from sqlalchemy import create_engine"
   ]
  },
  {
   "cell_type": "code",
   "execution_count": 2,
   "metadata": {
    "collapsed": false
   },
   "outputs": [
    {
     "name": "stderr",
     "output_type": "stream",
     "text": [
      "/Users/dgabrieli/anaconda3/envs/py34/lib/python3.4/site-packages/pandas/io/parsers.py:1159: DtypeWarning: Columns (32,37) have mixed types. Specify dtype option on import or set low_memory=False.\n",
      "  data = self._reader.read(nrows)\n",
      "/Users/dgabrieli/anaconda3/envs/py34/lib/python3.4/site-packages/pandas/io/parsers.py:1159: DtypeWarning: Columns (7,12,17,22,27,32,37) have mixed types. Specify dtype option on import or set low_memory=False.\n",
      "  data = self._reader.read(nrows)\n",
      "/Users/dgabrieli/anaconda3/envs/py34/lib/python3.4/site-packages/pandas/io/parsers.py:1159: DtypeWarning: Columns (42) have mixed types. Specify dtype option on import or set low_memory=False.\n",
      "  data = self._reader.read(nrows)\n",
      "/Users/dgabrieli/anaconda3/envs/py34/lib/python3.4/site-packages/pandas/io/parsers.py:1159: DtypeWarning: Columns (7,12,17,22,27,32) have mixed types. Specify dtype option on import or set low_memory=False.\n",
      "  data = self._reader.read(nrows)\n"
     ]
    }
   ],
   "source": [
    "mta_engine = create_engine('sqlite:///mta.db')\n",
    "\n",
    "for data_file in iglob('./data/*.txt'):\n",
    "    try:\n",
    "        with open(data_file) as data:\n",
    "            df = pd.read_csv(data)\n",
    "            #remove trailing whitespace from the column names\n",
    "            df.columns = [c.strip().lower() for c in df.columns]\n",
    "            #just use 'regular' records\n",
    "            df = df[df.desc == 'REGULAR']\n",
    "            #create proper timestamp column\n",
    "            df['ts'] = pd.to_datetime(df.date + ' ' + df.time)\n",
    "            #test for uniquness\n",
    "            sum(df[['ts','c/a','unit', 'scp', 'station']].duplicated()) == 0\n",
    "            #subset to minimum required set of vars\n",
    "            df = df.drop(['date', 'time', 'linename', 'division', 'desc'], axis=1)\n",
    "            #order by tunrstile identity and timeseries\n",
    "            df = df.sort(['station','c/a','unit','scp','ts'])\n",
    "            df = df.set_index(['station','c/a','unit','scp','ts'])\n",
    "            #get the delta between observations and remove outliers and missing values\n",
    "            gb = df.groupby(level=['station','c/a','unit','scp']).diff()\n",
    "            gb = gb.fillna(-1)\n",
    "            entries = gb[gb.entries >= 0]['entries']\n",
    "            exits = gb[gb.exits >= 0]['exits']\n",
    "            #only keep observations less than or equal to the 99% quantile\n",
    "            #TODO: consider removing outliers at the station level, instead of across the board\n",
    "            entries = entries[entries <= entries.quantile(.99)]\n",
    "            exits = exits[exits <= exits.quantile(.99)]\n",
    "            #create a clean dataframe\n",
    "            df_clean = pd.DataFrame([entries.groupby(level=['station', 'ts']).sum(),exits.groupby(level=['station', 'ts']).sum()]).T\n",
    "            #aggregate to the 'day' level instead of hourly\n",
    "            df_clean = df_clean.reset_index()\n",
    "            df_clean['ts'] = df_clean['ts'].apply(lambda x: x.date())\n",
    "            df_clean = df_clean.rename(columns={'ts': 'day'})\n",
    "            df_clean = df_clean.groupby(['station', 'day']).sum()\n",
    "            df_clean.to_sql(name='data', con=mta_engine, if_exists='append')\n",
    "    except Exception as e:\n",
    "        with open('error.log', 'a') as errors:\n",
    "            errors.write(data_file)\n",
    "            errors.write(str(e))\n",
    "            errors.write('\\n')"
   ]
  },
  {
   "cell_type": "code",
   "execution_count": null,
   "metadata": {
    "collapsed": true
   },
   "outputs": [],
   "source": []
  }
 ],
 "metadata": {
  "kernelspec": {
   "display_name": "Python 3",
   "language": "python",
   "name": "python3"
  },
  "language_info": {
   "codemirror_mode": {
    "name": "ipython",
    "version": 3
   },
   "file_extension": ".py",
   "mimetype": "text/x-python",
   "name": "python",
   "nbconvert_exporter": "python",
   "pygments_lexer": "ipython3",
   "version": "3.4.3"
  }
 },
 "nbformat": 4,
 "nbformat_minor": 0
}
